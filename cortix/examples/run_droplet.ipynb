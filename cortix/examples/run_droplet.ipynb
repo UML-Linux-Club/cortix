{
 "cells": [
  {
   "cell_type": "code",
   "execution_count": null,
   "metadata": {},
   "outputs": [],
   "source": [
    "# Import various packages; must have the Cortix repository installed\n",
    "\n",
    "import matplotlib.pyplot as plt\n",
    "\n",
    "from cortix.src.module import Module\n",
    "from cortix.src.cortix_main import Cortix\n",
    "\n",
    "# Import the example modules\n",
    "from cortix.examples.dataplot import DataPlot\n",
    "from cortix.examples.vortex import Vortex\n",
    "from cortix.examples.droplet import Droplet"
   ]
  },
  {
   "cell_type": "code",
   "execution_count": null,
   "metadata": {
    "code_folding": []
   },
   "outputs": [],
   "source": [
    "# Create a Cortix object with Python multiprocessing\n",
    "cortix = Cortix(use_mpi=False,splash=False)\n",
    "\n",
    "# Set parameters in SI units\n",
    "n_droplets = 5\n",
    "end_time = 300\n",
    "time_step = 0.1"
   ]
  },
  {
   "cell_type": "code",
   "execution_count": null,
   "metadata": {},
   "outputs": [],
   "source": [
    "# Create the application network\n",
    "\n",
    "# Vortex module (single)\n",
    "vortex = Vortex()\n",
    "cortix.add_module(vortex)\n",
    "vortex.show_time = (True,100)\n",
    "vortex.end_time = end_time\n",
    "vortex.time_step = time_step\n",
    "vortex.plot_velocity()\n",
    "\n",
    "# DataPlot module (single)\n",
    "data_plot = DataPlot()\n",
    "cortix.add_module(data_plot)\n",
    "data_plot.title = 'Droplet Trajectories'\n",
    "data_plot.same_axes = True\n",
    "data_plot.dpi = 300\n",
    "\n",
    "for i in range(n_droplets):\n",
    "    \n",
    "    # Droplet modules (multiple)\n",
    "    droplet = Droplet()\n",
    "    cortix.add_module(droplet)\n",
    "    droplet.end_time = end_time\n",
    "    droplet.time_step = time_step\n",
    "    droplet.bounce = False\n",
    "    droplet.slip = False\n",
    "    \n",
    "    droplet.connect('external-flow', vortex.get_port('fluid-flow:{}'.format(i)))\n",
    "    droplet.connect('visualization', data_plot.get_port('viz-data:{:05}'.format(i)))"
   ]
  },
  {
   "cell_type": "code",
   "execution_count": null,
   "metadata": {},
   "outputs": [],
   "source": [
    "# View the Cortix module network\n",
    "\n",
    "cortix.draw_network()\n",
    "plt.show()"
   ]
  },
  {
   "cell_type": "code",
   "execution_count": null,
   "metadata": {},
   "outputs": [],
   "source": [
    "# Run the simulation!\n",
    "\n",
    "cortix.run()"
   ]
  },
  {
   "cell_type": "code",
   "execution_count": null,
   "metadata": {},
   "outputs": [],
   "source": [
    "# Plot the trajectories of all droplets in the vortex flow\n",
    "\n",
    "import pickle\n",
    "data = pickle.load(open(data_plot.data_file_name,'rb'))\n",
    "data_plot.plot_data(data)"
   ]
  }
 ],
 "metadata": {
  "kernelspec": {
   "display_name": "Python 3",
   "language": "python",
   "name": "python3"
  },
  "language_info": {
   "codemirror_mode": {
    "name": "ipython",
    "version": 3
   },
   "file_extension": ".py",
   "mimetype": "text/x-python",
   "name": "python",
   "nbconvert_exporter": "python",
   "pygments_lexer": "ipython3",
   "version": "3.7.1"
  },
  "latex_envs": {
   "LaTeX_envs_menu_present": true,
   "autoclose": false,
   "autocomplete": true,
   "bibliofile": "biblio.bib",
   "cite_by": "apalike",
   "current_citInitial": 1,
   "eqLabelWithNumbers": true,
   "eqNumInitial": 1,
   "hotkeys": {
    "equation": "Ctrl-E",
    "itemize": "Ctrl-I"
   },
   "labels_anchors": false,
   "latex_user_defs": false,
   "report_style_numbering": false,
   "user_envs_cfg": false
  }
 },
 "nbformat": 4,
 "nbformat_minor": 2
}
