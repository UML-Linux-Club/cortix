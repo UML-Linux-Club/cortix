{
 "cells": [
  {
   "cell_type": "code",
   "execution_count": null,
   "metadata": {},
   "outputs": [],
   "source": [
    "import matplotlib.pyplot as plt\n",
    "\n",
    "from cortix.src.port import Port\n",
    "from cortix.src.module import Module\n",
    "from cortix.src.cortix_main import Cortix\n",
    "from cortix.util.dataplot import DataPlot\n",
    "\n",
    "# Import the example fluid flow models\n",
    "from cortix.examples.vortex import Vortex\n",
    "from cortix.examples.droplet import Droplet"
   ]
  },
  {
   "cell_type": "code",
   "execution_count": null,
   "metadata": {},
   "outputs": [],
   "source": [
    "# Init the Cortix object (switch to multiprocessing for the notebook)\n",
    "cortix = Cortix(use_mpi=False)\n",
    "\n",
    "# Some parameters\n",
    "n_droplets = 5\n",
    "end_time = 30\n",
    "time_step = 0.0"
   ]
  },
  {
   "cell_type": "code",
   "execution_count": null,
   "metadata": {
    "collapsed": true
   },
   "outputs": [],
   "source": [
    "# Vortex module (single)\n",
    "vortex = Vortex()\n",
    "vortex.show_time = (True,100)\n",
    "vortex.end_time = end_time\n",
    "vortex.time_step = time_step\n",
    "vortex.plot_velocity()\n",
    "\n",
    "# DataPlot module (single)\n",
    "data_plot = DataPlot()\n",
    "data_plot.title = 'Droplet Trajectories'\n",
    "data_plot.same_axes = True\n",
    "data_plot.dpi = 300\n",
    "\n",
    "for i in range(n_droplets):\n",
    "    \n",
    "    # Droplet modules\n",
    "    droplet = Droplet()\n",
    "    droplet.end_time = end_time\n",
    "    droplet.time_step = time_step\n",
    "    droplet.bounce = False\n",
    "    droplet.slip = False\n",
    "    # Ports def.\n",
    "    external_flow = Port('external-flow')\n",
    "    droplet.add_port(external_flow)\n",
    "    visualization = Port('visualization')\n",
    "    droplet.add_port(visualization)\n",
    "    \n",
    "    # DataPlot module ports def.\n",
    "    plot = Port('viz-data:{:05}'.format(i))\n",
    "    data_plot.add_port(plot)\n",
    " \n",
    "    # Vortex module ports def.\n",
    "    fluid_flow = Port('fluid-flow:{}'.format(i))\n",
    "    vortex.add_port(plot)\n",
    "    \n",
    "    # Network connectivity (connect ports)\n",
    "    external_flow.connect(fluid_flow)\n",
    "    visualization.connect(plot)\n",
    "    \n",
    "    cortix.add_module(droplet)\n",
    "\n",
    "cortix.add_module(vortex)"
   ]
  },
  {
   "cell_type": "code",
   "execution_count": null,
   "metadata": {},
   "outputs": [],
   "source": [
    "# Run the simulation!\n",
    "cortix.run()\n",
    "\n"
   ]
  },
  {
   "cell_type": "code",
   "execution_count": null,
   "metadata": {},
   "outputs": [],
   "source": [
    "# View the Cortix module network\n",
    "cortix.draw_network()\n",
    "plt.show()"
   ]
  }
 ],
 "metadata": {
  "kernelspec": {
   "display_name": "Python 3",
   "language": "python3",
   "name": "python3"
  },
  "language_info": {
   "codemirror_mode": {
    "name": "ipython",
    "version": 3
   },
   "file_extension": ".py",
   "mimetype": "text/x-python",
   "name": "python",
   "nbconvert_exporter": "python",
   "pygments_lexer": "ipython3",
   "version": "3.6.5"
  },
  "latex_envs": {
   "LaTeX_envs_menu_present": true,
   "autoclose": false,
   "autocomplete": true,
   "bibliofile": "biblio.bib",
   "cite_by": "apalike",
   "current_citInitial": 1,
   "eqLabelWithNumbers": true,
   "eqNumInitial": 1,
   "hotkeys": {
    "equation": "Ctrl-E",
    "itemize": "Ctrl-I"
   },
   "labels_anchors": false,
   "latex_user_defs": false,
   "report_style_numbering": false,
   "user_envs_cfg": false
  }
 },
 "nbformat": 4,
 "nbformat_minor": 2
}
