{
 "cells": [
  {
   "cell_type": "code",
   "execution_count": 1,
   "metadata": {},
   "outputs": [],
   "source": [
    "from cortix.src.port import Port\n",
    "from cortix.src.module import Module\n",
    "from cortix.src.cortix_main import Cortix\n",
    "from cortix.util.dataplot import DataPlot\n",
    "\n",
    "# Import the example fluid flow models\n",
    "from cortix.examples.fluidflow.vortex import Vortex\n",
    "from cortix.examples.fluidflow.droplet import Droplet"
   ]
  },
  {
   "cell_type": "code",
   "execution_count": 2,
   "metadata": {},
   "outputs": [
    {
     "name": "stderr",
     "output_type": "stream",
     "text": [
      "2019-06-18 14:44:13,000 - cortix - INFO - Created Cortix object\n"
     ]
    }
   ],
   "source": [
    "# Init the Cortix object\n",
    "c = Cortix(use_mpi=False)\n",
    "\n",
    "# Initialize and add the Vortex module to Cortix\n",
    "v = Vortex()\n",
    "c.add_module(v)"
   ]
  },
  {
   "cell_type": "code",
   "execution_count": 3,
   "metadata": {},
   "outputs": [],
   "source": [
    "# Construct 5 droplets\n",
    "for i in range(5):\n",
    "    droplet = Droplet()\n",
    "    data_plot = DataPlot()\n",
    "\n",
    "    data_plot.set_title('Radial Position')\n",
    "    data_plot.set_xlabel('Time')\n",
    "    data_plot.set_ylabel('Radius')\n",
    "\n",
    "\n",
    "    # Initialize the ports\n",
    "    drop_port = Port(\"radius\")\n",
    "    plot_port = Port(\"radius-{}\".format(i))\n",
    "    droplet_req_port = Port(\"droplet-request-{}\".format(i))\n",
    "    velocity_port = Port(\"velocity-{}\".format(i))\n",
    "    vortex_req_port = Port(\"velocity-request\")\n",
    "    vortex_velocity_port = Port(\"velocity\")\n",
    "\n",
    "\n",
    "    # Connect the ports\n",
    "    drop_port.connect(plot_port)\n",
    "    droplet_req_port.connect(vortex_req_port)\n",
    "    velocity_port.connect(vortex_velocity_port)\n",
    "\n",
    "    # Add the ports to module\n",
    "    data_plot.add_port(plot_port)\n",
    "    droplet.add_port(drop_port)\n",
    "    droplet.add_port(vortex_req_port)\n",
    "    droplet.add_port(vortex_velocity_port)\n",
    "    v.add_port(droplet_req_port)\n",
    "    v.add_port(velocity_port)\n",
    "\n",
    "    # Add the modules to Cortix\n",
    "    c.add_module(droplet)\n",
    "    c.add_module(data_plot)"
   ]
  },
  {
   "cell_type": "code",
   "execution_count": 4,
   "metadata": {},
   "outputs": [
    {
     "name": "stderr",
     "output_type": "stream",
     "text": [
      "2019-06-18 14:44:13,161 - cortix - INFO - Launching Module <cortix.examples.fluidflow.vortex.Vortex object at 0x7f8de8fd8898>\n",
      "2019-06-18 14:44:13,167 - cortix - INFO - Launching Module <cortix.examples.fluidflow.droplet.Droplet object at 0x7f8dd8f42978>\n",
      "2019-06-18 14:44:13,173 - cortix - INFO - Launching Module <cortix.util.dataplot.DataPlot object at 0x7f8dd8f42a90>\n",
      "2019-06-18 14:44:13,182 - cortix - INFO - Launching Module <cortix.examples.fluidflow.droplet.Droplet object at 0x7f8de6cbdeb8>\n",
      "2019-06-18 14:44:13,196 - cortix - INFO - Launching Module <cortix.util.dataplot.DataPlot object at 0x7f8de6cbdfd0>\n",
      "2019-06-18 14:44:13,206 - cortix - INFO - Launching Module <cortix.examples.fluidflow.droplet.Droplet object at 0x7f8de6ccd2b0>\n",
      "2019-06-18 14:44:13,215 - cortix - INFO - Launching Module <cortix.util.dataplot.DataPlot object at 0x7f8de6ccd3c8>\n",
      "2019-06-18 14:44:13,223 - cortix - INFO - Launching Module <cortix.examples.fluidflow.droplet.Droplet object at 0x7f8de6cd3630>\n",
      "2019-06-18 14:44:13,234 - cortix - INFO - Launching Module <cortix.util.dataplot.DataPlot object at 0x7f8de6ccd7b8>\n",
      "2019-06-18 14:44:13,242 - cortix - INFO - Launching Module <cortix.examples.fluidflow.droplet.Droplet object at 0x7f8de6cda7b8>\n",
      "2019-06-18 14:44:13,251 - cortix - INFO - Launching Module <cortix.util.dataplot.DataPlot object at 0x7f8de6cda8d0>\n",
      "2019-06-18 14:44:15,165 - cortix - INFO - Received: (9.99999999999998, 70.88909212164705)\n",
      "2019-06-18 14:44:15,174 - cortix - INFO - Received: (9.99999999999998, 32.79740733164848)\n",
      "2019-06-18 14:44:15,178 - cortix - INFO - Received: (9.99999999999998, 35.69084240504592)\n",
      "2019-06-18 14:44:15,205 - cortix - INFO - Received: (9.99999999999998, 151.8044280642015)\n",
      "2019-06-18 14:44:15,234 - cortix - INFO - Received: (9.99999999999998, 50.10984029814194)\n"
     ]
    }
   ],
   "source": [
    "# Run the simulation!\n",
    "c.run()"
   ]
  }
 ],
 "metadata": {
  "kernelspec": {
   "display_name": "Python 3",
   "language": "python",
   "name": "python3"
  },
  "language_info": {
   "codemirror_mode": {
    "name": "ipython",
    "version": 3
   },
   "file_extension": ".py",
   "mimetype": "text/x-python",
   "name": "python",
   "nbconvert_exporter": "python",
   "pygments_lexer": "ipython3",
   "version": "3.6.5"
  }
 },
 "nbformat": 4,
 "nbformat_minor": 2
}
