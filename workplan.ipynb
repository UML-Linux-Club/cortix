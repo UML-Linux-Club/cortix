{
 "cells": [
  {
   "cell_type": "markdown",
   "metadata": {},
   "source": [
    "[Cortix](https://cortix.org) Module 23May2019\n",
    "\n",
    "# Work Plan for Cortix"
   ]
  },
  {
   "cell_type": "markdown",
   "metadata": {},
   "source": [
    "### 2019 May-July Work Schedule                 \n",
    "**Template:**    template <br> \n",
    "**Template:**    template <br>\n",
    "**Web:**       https://www.uml.edu/Engineering/Chemical/faculty/de-Almeida-Valmor.aspx <br>   \n",
    "**Week meetings total:** 14. <br>\n",
    "<span style=\"color:red\">**Website:**</span> On-line course [repository](https://github.com/dpploy/engy-4350) and UMass Lowell Blackboard System. <br>"
   ]
  },
  {
   "cell_type": "markdown",
   "metadata": {},
   "source": [
    "|**Week**|Day| **Date**  |**Task**|**Assessment**|**Note**|\n",
    "|:-------:|:-:|:---------:|:-----------:|:-------------:|:------:|\n",
    "| **1**  | M |**20May19**| Network connectivity correction and simplification  |   -     |    -    |\n",
    "| 1      | W |  22May19  | MPI testing as it stands now         |   -     |    -    |\n",
    "| 1      | F |  24May19  | MPI testing with droplet-wind-pyplot |   -     | XML data in/out pyplot to be deprecated |\n",
    "| 2      | M |  27May19  | Beta testing MPI |   -   | - |\n",
    "| 2      | W |  29May19  | Solvex dev for Cortix |   -   | - |\n",
    "| 2      | F |  31May19  | Beta testing Solvex |   -   | - |\n",
    "|:------:|:-:|:---------:|:------------------------------------------------------:|:-------------:|:------:|\n",
    "| **3**  | M |**03Jun19**| Production run MPI  |   -   | cluster runs |\n",
    "| 3      | W |  05Jun19  | Production run Solvex  |   -   | - |\n",
    "| 3      | F |  07Jun19  | Presentation preparation  |   -   | see repo |\n",
    "| 4      | M |  10Jun19  | ANS annual meeting  |   -   | Presentation on Tuesday 11Jun19 |\n",
    "| 4      | W |  12Jun19  | ANS annual meeting  |   -   | - |\n",
    "| 4      | F |  14Jun19  | -  |   -   | SciPy conf. paper? |\n",
    "| 5      | M |  17Jun19  | -  |   -   | - |\n",
    "| 5      | W |  19Jun19  | -  |   -   | - |\n",
    "| 5      | F |  21Jun19  | -  |   -   | - |\n",
    "| 6      | M |  24Jun19  | -  |   -   | - |\n",
    "| 6      | W |  26Jun19  | -  |   -   | - |\n",
    "| 6      | F |  28Jun19  | -  |   -   | - |\n",
    "|:------:|:-:|:---------:|:------------------------------------------------------:|:-------------:|:------:|\n",
    "| **7**  | M |**01Jul19**| -  |   -   | - | - |\n",
    "| 7      | W |  03Jul19  | -  |   -   | - |\n",
    "| 7      | F |  05Jul19  | -  |   -   | - |\n",
    "| 8      | M |  08Jul19  | SciPy conf.  |   -   | - |\n",
    "| 8      | W |  10Jul19  | SciPy conf.  |   -   | - |\n",
    "| 8      | F |  12Jul19  | SciPy conf.  |   -   | - |\n",
    "| 9      | M |  15Jul19  | -  |   -   | - |\n",
    "| 9      | W |  17Jul19  | -  |   -   | - |\n",
    "| 9      | F |  19Jul19  | -  |   -   | - |\n",
    "| 10     | M |  22Jul19  | -  |   -   | - |\n",
    "| 10     | W |  24Jul19  | -  |   -   | - |\n",
    "| 10     | F |  26Jul19  | -  |   -   | - |\n",
    "| 11     | M |  29Jul19  | -  |   -   | - |\n",
    "| 11     | W |  31Jul19  | -  |   -   | - |\n",
    "|:------:|:-:|:---------:|:------------------------------------------------------:|:-------------:|:------:|\n",
    "| **11** | F |  **02Aug19**  | -  |   -   | - |\n",
    "| 12     | M |  05Aug19  | -  |   -   | - |\n",
    "| 12     | W |  07Aug19  | -  |   -   | - |\n",
    "| 12     | F |  09Aug19  | -  |   -   | - |\n",
    "| 13     | M |  12Aug19  | -  |   -   | - |\n",
    "| 13     | W |  15Aug19  | -  |   -   | - |\n",
    "| 13     | F |  16Aug19  | -  |   -   | - |\n",
    "| 14     | M |  19Aug19  | -  |   -   | - |\n",
    "| 14     | W |  21Aug19  | -  |   -   | - |\n",
    "| 14     | F |  23Aug19  | -  |   -   | - |\n",
    "| 15     | M |  26Aug19  | -  |   -   | - |\n",
    "| 15     | W |  28Aug19  | -  |   -   | - |\n",
    "| 15     | F |  30Aug19  | -  |   -   | - |\n",
    "|:------:|:-:|:---------:|:------------------------------------------------------:|:-------------:|:------:|"
   ]
  },
  {
   "cell_type": "code",
   "execution_count": null,
   "metadata": {},
   "outputs": [],
   "source": []
  }
 ],
 "metadata": {
  "kernelspec": {
   "display_name": "Python 3",
   "language": "python",
   "name": "python3"
  },
  "language_info": {
   "codemirror_mode": {
    "name": "ipython",
    "version": 3
   },
   "file_extension": ".py",
   "mimetype": "text/x-python",
   "name": "python",
   "nbconvert_exporter": "python",
   "pygments_lexer": "ipython3",
   "version": "3.7.1"
  },
  "latex_envs": {
   "LaTeX_envs_menu_present": true,
   "autoclose": false,
   "autocomplete": true,
   "bibliofile": "biblio.bib",
   "cite_by": "apalike",
   "current_citInitial": 1,
   "eqLabelWithNumbers": true,
   "eqNumInitial": 1,
   "hotkeys": {
    "equation": "Ctrl-E",
    "itemize": "Ctrl-I"
   },
   "labels_anchors": false,
   "latex_user_defs": false,
   "report_style_numbering": false,
   "user_envs_cfg": false
  }
 },
 "nbformat": 4,
 "nbformat_minor": 2
}
